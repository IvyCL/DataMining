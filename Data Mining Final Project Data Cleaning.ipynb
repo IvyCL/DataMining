{
 "cells": [
  {
   "cell_type": "code",
   "execution_count": null,
   "metadata": {},
   "outputs": [],
   "source": [
    "import pandas as pd\n",
    "import numpy as np\n",
    "import matplotlib.pyplot as plt"
   ]
  },
  {
   "cell_type": "code",
   "execution_count": null,
   "metadata": {},
   "outputs": [],
   "source": [
    "train_data = pd.read_csv('train copy.csv')"
   ]
  },
  {
   "cell_type": "code",
   "execution_count": null,
   "metadata": {},
   "outputs": [],
   "source": [
    "train_data.shape"
   ]
  },
  {
   "cell_type": "code",
   "execution_count": null,
   "metadata": {},
   "outputs": [],
   "source": [
    "#According to https://github.com/shawnhero/ICDM2013-Expedia-Recommendation-System modify competitor data\n",
    "#Convert comp_inv \n",
    "for i in range(1,9):\n",
    "    train_data['comp'+str(i)+'_inv'].fillna(0, inplace=True)\n",
    "    train_data['comp'+str(i)+'_inv'][train_data['comp'+str(i)+'_inv']==1] = 10\n",
    "    train_data['comp'+str(i)+'_inv'][train_data['comp'+str(i)+'_inv']==-1] = 1\n",
    "    train_data['comp'+str(i)+'_inv'][train_data['comp'+str(i)+'_inv']==0] = -1\n",
    "    train_data['comp'+str(i)+'_inv'][train_data['comp'+str(i)+'_inv']==10] = 0\n",
    "    \n",
    "train_data['comp_inv_sum'] = train_data['comp1_inv']\n",
    "for i in range(2,9):\n",
    "    train_data['comp_inv_sum'] += train_data['comp'+str(i)+'_inv']"
   ]
  },
  {
   "cell_type": "code",
   "execution_count": null,
   "metadata": {},
   "outputs": [],
   "source": [
    "#Convert compi_rate to comp_rate_sum\n",
    "for i in range(1,9):\n",
    "    train_data['comp'+str(i)+'_rate'].fillna(0, inplace=True)\n",
    "train_data['comp_rate_sum'] = train_data['comp1_rate']\n",
    "for i in range(2,9):\n",
    "    train_data['comp_rate_sum'] += train_data['comp'+str(i)+'_rate']"
   ]
  },
  {
   "cell_type": "code",
   "execution_count": null,
   "metadata": {},
   "outputs": [],
   "source": [
    "#drop competitor\n",
    "cols = np.arange(27, 51, dtype=np.int)\n",
    "train_data.drop(train_data.columns[cols],axis=1,inplace=True)"
   ]
  },
  {
   "cell_type": "code",
   "execution_count": null,
   "metadata": {},
   "outputs": [],
   "source": [
    "#drop date_time as it's irrelevant\n",
    "train_data.drop(['date_time'],axis=1,inplace=True)"
   ]
  },
  {
   "cell_type": "code",
   "execution_count": null,
   "metadata": {},
   "outputs": [],
   "source": [
    "#Replace na in orig_destination_distance with negative number : -100\n",
    "train_data['orig_destination_distance'].fillna(-100,inplace=True)"
   ]
  },
  {
   "cell_type": "code",
   "execution_count": null,
   "metadata": {},
   "outputs": [],
   "source": [
    "#prop_location_score1&prop_location_score2:positively correlated, the higher the score, the hotel is more desirable\n",
    "#drop prop_location_score2, rename prop_location_score1 as prop_location_score\n",
    "train_data.drop(['prop_location_score2'],axis=1,inplace=True)\n",
    "train_data.rename(columns={\"prop_location_score1\": \"prop_location_score\"},inplace=True)"
   ]
  },
  {
   "cell_type": "code",
   "execution_count": null,
   "metadata": {},
   "outputs": [],
   "source": [
    "#Replace na in prop_review_score with negative number : -1\n",
    "train_data['prop_review_score'].fillna(-1,inplace=True)"
   ]
  },
  {
   "cell_type": "code",
   "execution_count": null,
   "metadata": {},
   "outputs": [],
   "source": [
    "#Create match and mismatch columns for visitor_hist_data\n",
    "train_data['visitor_hist_adr_usd _diff'] = abs(train_data['visitor_hist_adr_usd'] - train_data['price_usd'])\n",
    "train_data['visitor_hist_starrating_diff'] = abs(train_data['visitor_hist_starrating'] - train_data['prop_starrating'])\n",
    "train_data['visitor_hist_starrating_diff'].fillna(-1,inplace=True)\n",
    "train_data['visitor_hist_adr_usd _diff'].fillna(-1,inplace=True)\n",
    "train_data.drop(['visitor_hist_starrating', 'visitor_hist_adr_usd'],axis=1,inplace=True)"
   ]
  },
  {
   "cell_type": "code",
   "execution_count": null,
   "metadata": {},
   "outputs": [],
   "source": [
    "train_data.drop(['srch_query_affinity_score','gross_bookings_usd'],axis=1,inplace=True)"
   ]
  },
  {
   "cell_type": "code",
   "execution_count": null,
   "metadata": {},
   "outputs": [],
   "source": [
    "#combine click_bool&booking_bool\n",
    "train_data[\"click_book\"] = train_data[\"click_bool\"]+train_data[\"booking_bool\"]*4\n",
    "train_data.drop(['click_bool','booking_bool'],axis=1,inplace=True)"
   ]
  },
  {
   "cell_type": "code",
   "execution_count": null,
   "metadata": {},
   "outputs": [],
   "source": [
    "train_data['price_sort']=train_data['price_usd'].groupby(train_data['srch_id']).rank(ascending=0,method='dense')"
   ]
  },
  {
   "cell_type": "code",
   "execution_count": null,
   "metadata": {},
   "outputs": [],
   "source": [
    "train_data['current_price_diff'] = abs(np.exp(train_data['prop_log_historical_price'])-train_data['price_usd'])"
   ]
  },
  {
   "cell_type": "code",
   "execution_count": null,
   "metadata": {},
   "outputs": [],
   "source": [
    "#use srch_id 70%train 30%test\n",
    "import random\n",
    "uniq_srch_id = list(train_data['srch_id'].unique())\n",
    "res = list(random.sample(uniq_srch_id, round(len(uniq_srch_id)*0.7)))\n",
    "train_train = train_data.loc[train_data['srch_id'].isin(res)]\n",
    "train_test = train_data.loc[~train_data['srch_id'].isin(res)]"
   ]
  },
  {
   "cell_type": "code",
   "execution_count": null,
   "metadata": {},
   "outputs": [],
   "source": [
    "train_train.to_csv('train_train.csv')\n",
    "train_test.to_csv('train_test.csv')"
   ]
  },
  {
   "cell_type": "code",
   "execution_count": null,
   "metadata": {},
   "outputs": [],
   "source": [
    "#check correlation with click_book \n",
    "corr = train_data.corr()\n",
    "corr[\"click_book\"]"
   ]
  },
  {
   "cell_type": "code",
   "execution_count": null,
   "metadata": {},
   "outputs": [],
   "source": [
    "#mutual information\n",
    "#https://scikit-learn.org/stable/modules/generated/sklearn.feature_selection.mutual_info_classif.html\n",
    "from sklearn.feature_selection import mutual_info_classif\n",
    "mut_info = mutual_info_classif(train_data.iloc[:,0:21], train_data[[\"click_book\"]],discrete_features=True)"
   ]
  },
  {
   "cell_type": "code",
   "execution_count": null,
   "metadata": {},
   "outputs": [],
   "source": [
    "mut_info.round(decimals=6)"
   ]
  },
  {
   "cell_type": "code",
   "execution_count": null,
   "metadata": {},
   "outputs": [],
   "source": [
    "#Exploratory Data Analysis\n",
    "srch_id_count = train_data.groupby(['srch_id']).count()['click_book']\n",
    "srch_id_count.mean()\n",
    "#For each srch_id avg appears 25 times.\n",
    "srch_id_sum = train_data.groupby(['srch_id']).sum()['click_book']\n",
    "sum(srch_id_sum>5)/len(srch_id_sum)\n",
    "#booking rate only 4.35%\n",
    "sum(srch_id_sum>1)/len(srch_id_sum)\n",
    "#click rate 71.47%\n",
    "sum(train_data[\"promotion_flag\"])/len(train_data[\"promotion_flag\"])\n",
    "#promotion rate 21.588%\n",
    "train_data[train_data[\"click_book\"] == 5][\"position\"].mean()\n",
    "#booking position mean 7.726"
   ]
  }
 ],
 "metadata": {
  "kernelspec": {
   "display_name": "Python 3",
   "language": "python",
   "name": "python3"
  },
  "language_info": {
   "codemirror_mode": {
    "name": "ipython",
    "version": 3
   },
   "file_extension": ".py",
   "mimetype": "text/x-python",
   "name": "python",
   "nbconvert_exporter": "python",
   "pygments_lexer": "ipython3",
   "version": "3.7.4"
  }
 },
 "nbformat": 4,
 "nbformat_minor": 2
}
